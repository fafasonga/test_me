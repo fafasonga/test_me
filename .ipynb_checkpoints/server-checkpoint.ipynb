{
 "cells": [
  {
   "cell_type": "code",
   "execution_count": 4,
   "metadata": {},
   "outputs": [],
   "source": [
    "import socket\n",
    "import pandas as pd\n",
    "import sys\n",
    "from thread import *"
   ]
  },
  {
   "cell_type": "code",
   "execution_count": 5,
   "metadata": {
    "collapsed": true
   },
   "outputs": [],
   "source": [
    "data = pd.read_csv('coordinate.csv', sep=';', na_values=\".\")"
   ]
  },
  {
   "cell_type": "code",
   "execution_count": 9,
   "metadata": {},
   "outputs": [
    {
     "name": "stdout",
     "output_type": "stream",
     "text": [
      "Socket created\n",
      "Bind failed. Error Code : 48 Message Address already in use\n"
     ]
    },
    {
     "ename": "SystemExit",
     "evalue": "",
     "output_type": "error",
     "traceback": [
      "An exception has occurred, use %tb to see the full traceback.\n",
      "\u001b[0;31mSystemExit\u001b[0m\n"
     ]
    }
   ],
   "source": [
    "HOST = ''   # Symbolic name, meaning all available interfaces\n",
    "PORT = 8888 # Arbitrary non-privileged port\n",
    " \n",
    "s = socket.socket(socket.AF_INET, socket.SOCK_STREAM)\n",
    "print 'Socket created'\n",
    " \n",
    "#Bind socket to local host and port\n",
    "try:\n",
    "    s.bind((HOST, PORT))\n",
    "except socket.error as msg:\n",
    "    print 'Bind failed. Error Code : ' + str(msg[0]) + ' Message ' + msg[1]\n",
    "    sys.exit()\n",
    "     \n",
    "print 'Socket bind complete'\n",
    " \n",
    "#Start listening on socket\n",
    "s.listen(10)\n",
    "print 'Socket now listening'\n",
    " \n",
    "#now keep talking with the client\n",
    "while 1:\n",
    "    #wait to accept a connection - blocking call\n",
    "    conn, addr = s.accept()\n",
    "    print 'Connected with ' + addr[0] + ':' + str(addr[1])\n",
    "     \n",
    "s.close()"
   ]
  },
  {
   "cell_type": "code",
   "execution_count": null,
   "metadata": {
    "collapsed": true
   },
   "outputs": [],
   "source": []
  }
 ],
 "metadata": {
  "kernelspec": {
   "display_name": "Python 2",
   "language": "python",
   "name": "python2"
  },
  "language_info": {
   "codemirror_mode": {
    "name": "ipython",
    "version": 2
   },
   "file_extension": ".py",
   "mimetype": "text/x-python",
   "name": "python",
   "nbconvert_exporter": "python",
   "pygments_lexer": "ipython2",
   "version": "2.7.13"
  }
 },
 "nbformat": 4,
 "nbformat_minor": 2
}
