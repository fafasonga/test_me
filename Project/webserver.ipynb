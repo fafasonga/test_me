{
 "cells": [
  {
   "cell_type": "code",
   "execution_count": 1,
   "metadata": {
    "collapsed": true
   },
   "outputs": [],
   "source": [
    "import SimpleHTTPServer\n",
    "import SocketServer"
   ]
  },
  {
   "cell_type": "code",
   "execution_count": null,
   "metadata": {},
   "outputs": [
    {
     "name": "stdout",
     "output_type": "stream",
     "text": [
      "serving at port 8200\n"
     ]
    },
    {
     "name": "stderr",
     "output_type": "stream",
     "text": [
      "127.0.0.1 - - [06/Oct/2017 12:21:20] \"GET / HTTP/1.1\" 200 -\n",
      "127.0.0.1 - - [06/Oct/2017 12:42:14] code 404, message File not found\n",
      "127.0.0.1 - - [06/Oct/2017 12:42:14] \"GET /socket.io/?EIO=3&transport=polling&t=Lxn45gx HTTP/1.1\" 404 -\n",
      "127.0.0.1 - - [06/Oct/2017 12:42:15] code 404, message File not found\n",
      "127.0.0.1 - - [06/Oct/2017 12:42:15] \"GET /socket.io/?EIO=3&transport=polling&t=Lxn460z HTTP/1.1\" 404 -\n",
      "127.0.0.1 - - [06/Oct/2017 12:42:18] code 404, message File not found\n",
      "127.0.0.1 - - [06/Oct/2017 12:42:18] \"GET /socket.io/?EIO=3&transport=polling&t=Lxn46fb HTTP/1.1\" 404 -\n",
      "127.0.0.1 - - [06/Oct/2017 12:42:23] code 404, message File not found\n",
      "127.0.0.1 - - [06/Oct/2017 12:42:23] \"GET /socket.io/?EIO=3&transport=polling&t=Lxn47u0 HTTP/1.1\" 404 -\n",
      "127.0.0.1 - - [06/Oct/2017 12:42:28] code 404, message File not found\n",
      "127.0.0.1 - - [06/Oct/2017 12:42:28] \"GET /socket.io/?EIO=3&transport=polling&t=Lxn496N HTTP/1.1\" 404 -\n",
      "127.0.0.1 - - [06/Oct/2017 12:42:33] code 404, message File not found\n",
      "127.0.0.1 - - [06/Oct/2017 12:42:33] \"GET /socket.io/?EIO=3&transport=polling&t=Lxn4AKn HTTP/1.1\" 404 -\n",
      "127.0.0.1 - - [06/Oct/2017 12:42:38] code 404, message File not found\n",
      "127.0.0.1 - - [06/Oct/2017 12:42:38] \"GET /socket.io/?EIO=3&transport=polling&t=Lxn4BZI HTTP/1.1\" 404 -\n",
      "127.0.0.1 - - [06/Oct/2017 12:42:43] code 404, message File not found\n",
      "127.0.0.1 - - [06/Oct/2017 12:42:43] \"GET /socket.io/?EIO=3&transport=polling&t=Lxn4Cnf HTTP/1.1\" 404 -\n",
      "127.0.0.1 - - [06/Oct/2017 12:42:48] code 404, message File not found\n",
      "127.0.0.1 - - [06/Oct/2017 12:42:48] \"GET /socket.io/?EIO=3&transport=polling&t=Lxn4E04 HTTP/1.1\" 404 -\n",
      "127.0.0.1 - - [06/Oct/2017 12:42:53] code 404, message File not found\n",
      "127.0.0.1 - - [06/Oct/2017 12:42:53] \"GET /socket.io/?EIO=3&transport=polling&t=Lxn4FEX HTTP/1.1\" 404 -\n",
      "127.0.0.1 - - [06/Oct/2017 12:42:58] code 404, message File not found\n",
      "127.0.0.1 - - [06/Oct/2017 12:42:58] \"GET /socket.io/?EIO=3&transport=polling&t=Lxn4GSy HTTP/1.1\" 404 -\n",
      "127.0.0.1 - - [06/Oct/2017 12:43:03] code 404, message File not found\n",
      "127.0.0.1 - - [06/Oct/2017 12:43:03] \"GET /socket.io/?EIO=3&transport=polling&t=Lxn4HhN HTTP/1.1\" 404 -\n",
      "127.0.0.1 - - [06/Oct/2017 12:43:08] code 404, message File not found\n",
      "127.0.0.1 - - [06/Oct/2017 12:43:08] \"GET /socket.io/?EIO=3&transport=polling&t=Lxn4Ivk HTTP/1.1\" 404 -\n",
      "127.0.0.1 - - [06/Oct/2017 12:43:13] code 404, message File not found\n",
      "127.0.0.1 - - [06/Oct/2017 12:43:13] \"GET /socket.io/?EIO=3&transport=polling&t=Lxn4K89 HTTP/1.1\" 404 -\n",
      "127.0.0.1 - - [06/Oct/2017 12:43:19] code 404, message File not found\n",
      "127.0.0.1 - - [06/Oct/2017 12:43:19] \"GET /socket.io/?EIO=3&transport=polling&t=Lxn4Lgf HTTP/1.1\" 404 -\n",
      "127.0.0.1 - - [06/Oct/2017 12:43:26] code 404, message File not found\n",
      "127.0.0.1 - - [06/Oct/2017 12:43:26] \"GET /socket.io/?EIO=3&transport=polling&t=Lxn4NI0 HTTP/1.1\" 404 -\n",
      "127.0.0.1 - - [06/Oct/2017 12:43:35] code 404, message File not found\n",
      "127.0.0.1 - - [06/Oct/2017 12:43:35] \"GET /socket.io/?EIO=3&transport=polling&t=Lxn4PVD HTTP/1.1\" 404 -\n",
      "127.0.0.1 - - [06/Oct/2017 12:43:44] code 404, message File not found\n",
      "127.0.0.1 - - [06/Oct/2017 12:43:44] \"GET /socket.io/?EIO=3&transport=polling&t=Lxn4RY- HTTP/1.1\" 404 -\n",
      "127.0.0.1 - - [06/Oct/2017 12:43:51] code 404, message File not found\n",
      "127.0.0.1 - - [06/Oct/2017 12:43:51] \"GET /socket.io/?EIO=3&transport=polling&t=Lxn4TO5 HTTP/1.1\" 404 -\n",
      "127.0.0.1 - - [06/Oct/2017 12:44:00] code 404, message File not found\n",
      "127.0.0.1 - - [06/Oct/2017 12:44:00] \"GET /socket.io/?EIO=3&transport=polling&t=Lxn4Vaq HTTP/1.1\" 404 -\n",
      "127.0.0.1 - - [06/Oct/2017 12:44:09] code 404, message File not found\n",
      "127.0.0.1 - - [06/Oct/2017 12:44:09] \"GET /socket.io/?EIO=3&transport=polling&t=Lxn4Xr- HTTP/1.1\" 404 -\n",
      "127.0.0.1 - - [06/Oct/2017 12:44:16] code 404, message File not found\n",
      "127.0.0.1 - - [06/Oct/2017 12:44:16] \"GET /socket.io/?EIO=3&transport=polling&t=Lxn4ZUi HTTP/1.1\" 404 -\n",
      "127.0.0.1 - - [06/Oct/2017 12:44:26] code 404, message File not found\n",
      "127.0.0.1 - - [06/Oct/2017 12:44:26] \"GET /socket.io/?EIO=3&transport=polling&t=Lxn4boQ HTTP/1.1\" 404 -\n",
      "127.0.0.1 - - [06/Oct/2017 12:44:35] code 404, message File not found\n",
      "127.0.0.1 - - [06/Oct/2017 12:44:35] \"GET /socket.io/?EIO=3&transport=polling&t=Lxn4e5W HTTP/1.1\" 404 -\n",
      "127.0.0.1 - - [06/Oct/2017 12:44:44] code 404, message File not found\n",
      "127.0.0.1 - - [06/Oct/2017 12:44:44] \"GET /socket.io/?EIO=3&transport=polling&t=Lxn4gJp HTTP/1.1\" 404 -\n",
      "127.0.0.1 - - [06/Oct/2017 12:44:52] code 404, message File not found\n",
      "127.0.0.1 - - [06/Oct/2017 12:44:52] \"GET /socket.io/?EIO=3&transport=polling&t=Lxn4i9T HTTP/1.1\" 404 -\n",
      "127.0.0.1 - - [06/Oct/2017 12:44:59] code 404, message File not found\n",
      "127.0.0.1 - - [06/Oct/2017 12:44:59] \"GET /socket.io/?EIO=3&transport=polling&t=Lxn4jzC HTTP/1.1\" 404 -\n",
      "127.0.0.1 - - [06/Oct/2017 12:45:08] code 404, message File not found\n",
      "127.0.0.1 - - [06/Oct/2017 12:45:08] \"GET /socket.io/?EIO=3&transport=polling&t=Lxn4mB8 HTTP/1.1\" 404 -\n",
      "127.0.0.1 - - [06/Oct/2017 12:45:14] code 404, message File not found\n",
      "127.0.0.1 - - [06/Oct/2017 12:45:14] \"GET /socket.io/?EIO=3&transport=polling&t=Lxn4nla HTTP/1.1\" 404 -\n",
      "127.0.0.1 - - [06/Oct/2017 12:45:16] code 404, message File not found\n",
      "127.0.0.1 - - [06/Oct/2017 12:45:16] \"GET /socket.io/?EIO=3&transport=polling&t=Lxn4o6E HTTP/1.1\" 404 -\n",
      "127.0.0.1 - - [06/Oct/2017 12:45:18] code 404, message File not found\n",
      "127.0.0.1 - - [06/Oct/2017 12:45:18] \"GET /socket.io/?EIO=3&transport=polling&t=Lxn4oW8 HTTP/1.1\" 404 -\n",
      "127.0.0.1 - - [06/Oct/2017 12:45:21] code 404, message File not found\n",
      "127.0.0.1 - - [06/Oct/2017 12:45:21] \"GET /socket.io/?EIO=3&transport=polling&t=Lxn4pEg HTTP/1.1\" 404 -\n",
      "127.0.0.1 - - [06/Oct/2017 12:45:24] code 404, message File not found\n",
      "127.0.0.1 - - [06/Oct/2017 12:45:24] \"GET /socket.io/?EIO=3&transport=polling&t=Lxn4p-o HTTP/1.1\" 404 -\n",
      "127.0.0.1 - - [06/Oct/2017 12:45:29] code 404, message File not found\n",
      "127.0.0.1 - - [06/Oct/2017 12:45:29] \"GET /socket.io/?EIO=3&transport=polling&t=Lxn4rNc HTTP/1.1\" 404 -\n",
      "127.0.0.1 - - [06/Oct/2017 12:45:38] code 404, message File not found\n",
      "127.0.0.1 - - [06/Oct/2017 12:45:38] \"GET /socket.io/?EIO=3&transport=polling&t=Lxn4tWR HTTP/1.1\" 404 -\n",
      "127.0.0.1 - - [06/Oct/2017 12:45:46] code 404, message File not found\n",
      "127.0.0.1 - - [06/Oct/2017 12:45:46] \"GET /socket.io/?EIO=3&transport=polling&t=Lxn4vON HTTP/1.1\" 404 -\n",
      "127.0.0.1 - - [06/Oct/2017 12:45:54] code 404, message File not found\n",
      "127.0.0.1 - - [06/Oct/2017 12:45:54] \"GET /socket.io/?EIO=3&transport=polling&t=Lxn4xOO HTTP/1.1\" 404 -\n",
      "127.0.0.1 - - [06/Oct/2017 12:46:01] code 404, message File not found\n",
      "127.0.0.1 - - [06/Oct/2017 12:46:01] \"GET /socket.io/?EIO=3&transport=polling&t=Lxn4z28 HTTP/1.1\" 404 -\n",
      "127.0.0.1 - - [06/Oct/2017 12:46:10] code 404, message File not found\n",
      "127.0.0.1 - - [06/Oct/2017 12:46:10] \"GET /socket.io/?EIO=3&transport=polling&t=Lxn4_I- HTTP/1.1\" 404 -\n",
      "127.0.0.1 - - [06/Oct/2017 12:46:18] code 404, message File not found\n",
      "127.0.0.1 - - [06/Oct/2017 12:46:18] \"GET /socket.io/?EIO=3&transport=polling&t=Lxn51A2 HTTP/1.1\" 404 -\n",
      "127.0.0.1 - - [06/Oct/2017 12:46:24] code 404, message File not found\n",
      "127.0.0.1 - - [06/Oct/2017 12:46:24] \"GET /socket.io/?EIO=3&transport=polling&t=Lxn52kn HTTP/1.1\" 404 -\n",
      "127.0.0.1 - - [06/Oct/2017 12:46:31] code 404, message File not found\n",
      "127.0.0.1 - - [06/Oct/2017 12:46:31] \"GET /socket.io/?EIO=3&transport=polling&t=Lxn54YC HTTP/1.1\" 404 -\n",
      "127.0.0.1 - - [06/Oct/2017 12:46:38] code 404, message File not found\n",
      "127.0.0.1 - - [06/Oct/2017 12:46:38] \"GET /socket.io/?EIO=3&transport=polling&t=Lxn569X HTTP/1.1\" 404 -\n",
      "127.0.0.1 - - [06/Oct/2017 12:46:45] code 404, message File not found\n",
      "127.0.0.1 - - [06/Oct/2017 12:46:45] \"GET /socket.io/?EIO=3&transport=polling&t=Lxn57sw HTTP/1.1\" 404 -\n",
      "127.0.0.1 - - [06/Oct/2017 12:46:52] code 404, message File not found\n",
      "127.0.0.1 - - [06/Oct/2017 12:46:52] \"GET /socket.io/?EIO=3&transport=polling&t=Lxn59aI HTTP/1.1\" 404 -\n",
      "127.0.0.1 - - [06/Oct/2017 12:46:59] code 404, message File not found\n",
      "127.0.0.1 - - [06/Oct/2017 12:46:59] \"GET /socket.io/?EIO=3&transport=polling&t=Lxn5BHg HTTP/1.1\" 404 -\n",
      "127.0.0.1 - - [06/Oct/2017 12:47:08] code 404, message File not found\n",
      "127.0.0.1 - - [06/Oct/2017 12:47:08] \"GET /socket.io/?EIO=3&transport=polling&t=Lxn5DZr HTTP/1.1\" 404 -\n"
     ]
    },
    {
     "name": "stderr",
     "output_type": "stream",
     "text": [
      "127.0.0.1 - - [06/Oct/2017 12:47:18] code 404, message File not found\n",
      "127.0.0.1 - - [06/Oct/2017 12:47:18] \"GET /socket.io/?EIO=3&transport=polling&t=Lxn5FtR HTTP/1.1\" 404 -\n",
      "127.0.0.1 - - [06/Oct/2017 12:47:26] code 404, message File not found\n",
      "127.0.0.1 - - [06/Oct/2017 12:47:26] \"GET /socket.io/?EIO=3&transport=polling&t=Lxn5Hz2 HTTP/1.1\" 404 -\n",
      "127.0.0.1 - - [06/Oct/2017 12:47:34] code 404, message File not found\n",
      "127.0.0.1 - - [06/Oct/2017 12:47:34] \"GET /socket.io/?EIO=3&transport=polling&t=Lxn5Jmt HTTP/1.1\" 404 -\n",
      "127.0.0.1 - - [06/Oct/2017 12:47:40] code 404, message File not found\n",
      "127.0.0.1 - - [06/Oct/2017 12:47:40] \"GET /socket.io/?EIO=3&transport=polling&t=Lxn5LIK HTTP/1.1\" 404 -\n",
      "127.0.0.1 - - [06/Oct/2017 12:47:49] code 404, message File not found\n",
      "127.0.0.1 - - [06/Oct/2017 12:47:49] \"GET /socket.io/?EIO=3&transport=polling&t=Lxn5NaA HTTP/1.1\" 404 -\n",
      "127.0.0.1 - - [06/Oct/2017 12:47:57] code 404, message File not found\n",
      "127.0.0.1 - - [06/Oct/2017 12:47:57] \"GET /socket.io/?EIO=3&transport=polling&t=Lxn5PS7 HTTP/1.1\" 404 -\n",
      "127.0.0.1 - - [06/Oct/2017 12:48:05] code 404, message File not found\n",
      "127.0.0.1 - - [06/Oct/2017 12:48:05] \"GET /socket.io/?EIO=3&transport=polling&t=Lxn5RLN HTTP/1.1\" 404 -\n",
      "127.0.0.1 - - [06/Oct/2017 12:48:12] code 404, message File not found\n",
      "127.0.0.1 - - [06/Oct/2017 12:48:12] \"GET /socket.io/?EIO=3&transport=polling&t=Lxn5T2z HTTP/1.1\" 404 -\n",
      "127.0.0.1 - - [06/Oct/2017 12:48:18] code 404, message File not found\n",
      "127.0.0.1 - - [06/Oct/2017 12:48:18] \"GET /socket.io/?EIO=3&transport=polling&t=Lxn5Ua5 HTTP/1.1\" 404 -\n",
      "127.0.0.1 - - [06/Oct/2017 12:48:26] code 404, message File not found\n",
      "127.0.0.1 - - [06/Oct/2017 12:48:26] \"GET /socket.io/?EIO=3&transport=polling&t=Lxn5WQN HTTP/1.1\" 404 -\n",
      "127.0.0.1 - - [06/Oct/2017 12:48:34] code 404, message File not found\n",
      "127.0.0.1 - - [06/Oct/2017 12:48:34] \"GET /socket.io/?EIO=3&transport=polling&t=Lxn5YR8 HTTP/1.1\" 404 -\n",
      "127.0.0.1 - - [06/Oct/2017 12:48:40] code 404, message File not found\n",
      "127.0.0.1 - - [06/Oct/2017 12:48:40] \"GET /socket.io/?EIO=3&transport=polling&t=Lxn5Zyb HTTP/1.1\" 404 -\n",
      "127.0.0.1 - - [06/Oct/2017 12:48:50] code 404, message File not found\n",
      "127.0.0.1 - - [06/Oct/2017 12:48:50] \"GET /socket.io/?EIO=3&transport=polling&t=Lxn5cKo HTTP/1.1\" 404 -\n",
      "127.0.0.1 - - [06/Oct/2017 12:48:56] code 404, message File not found\n",
      "127.0.0.1 - - [06/Oct/2017 12:48:56] \"GET /socket.io/?EIO=3&transport=polling&t=Lxn5drt HTTP/1.1\" 404 -\n",
      "127.0.0.1 - - [06/Oct/2017 12:49:03] code 404, message File not found\n",
      "127.0.0.1 - - [06/Oct/2017 12:49:03] \"GET /socket.io/?EIO=3&transport=polling&t=Lxn5fZF HTTP/1.1\" 404 -\n",
      "127.0.0.1 - - [06/Oct/2017 12:49:11] code 404, message File not found\n",
      "127.0.0.1 - - [06/Oct/2017 12:49:11] \"GET /socket.io/?EIO=3&transport=polling&t=Lxn5hQ- HTTP/1.1\" 404 -\n",
      "127.0.0.1 - - [06/Oct/2017 12:49:19] code 404, message File not found\n",
      "127.0.0.1 - - [06/Oct/2017 12:49:19] \"GET /socket.io/?EIO=3&transport=polling&t=Lxn5jTb HTTP/1.1\" 404 -\n",
      "127.0.0.1 - - [06/Oct/2017 12:49:28] code 404, message File not found\n",
      "127.0.0.1 - - [06/Oct/2017 12:49:28] \"GET /socket.io/?EIO=3&transport=polling&t=Lxn5ldT HTTP/1.1\" 404 -\n",
      "127.0.0.1 - - [06/Oct/2017 12:49:37] code 404, message File not found\n",
      "127.0.0.1 - - [06/Oct/2017 12:49:37] \"GET /socket.io/?EIO=3&transport=polling&t=Lxn5nrC HTTP/1.1\" 404 -\n",
      "127.0.0.1 - - [06/Oct/2017 12:49:43] code 404, message File not found\n",
      "127.0.0.1 - - [06/Oct/2017 12:49:43] \"GET /socket.io/?EIO=3&transport=polling&t=Lxn5pKH HTTP/1.1\" 404 -\n",
      "127.0.0.1 - - [06/Oct/2017 12:49:50] code 404, message File not found\n",
      "127.0.0.1 - - [06/Oct/2017 12:49:50] \"GET /socket.io/?EIO=3&transport=polling&t=Lxn5r1f HTTP/1.1\" 404 -\n",
      "127.0.0.1 - - [06/Oct/2017 12:49:57] code 404, message File not found\n",
      "127.0.0.1 - - [06/Oct/2017 12:49:57] \"GET /socket.io/?EIO=3&transport=polling&t=Lxn5sl1 HTTP/1.1\" 404 -\n"
     ]
    }
   ],
   "source": [
    "PORT = 8200\n",
    "\n",
    "Handler = SimpleHTTPServer.SimpleHTTPRequestHandler\n",
    "\n",
    "httpd = SocketServer.TCPServer((\"\", PORT), Handler)\n",
    "\n",
    "print \"serving at port\", PORT\n",
    "httpd.serve_forever()"
   ]
  },
  {
   "cell_type": "code",
   "execution_count": null,
   "metadata": {
    "collapsed": true
   },
   "outputs": [],
   "source": []
  },
  {
   "cell_type": "code",
   "execution_count": null,
   "metadata": {},
   "outputs": [],
   "source": []
  },
  {
   "cell_type": "code",
   "execution_count": null,
   "metadata": {
    "collapsed": true
   },
   "outputs": [],
   "source": []
  }
 ],
 "metadata": {
  "kernelspec": {
   "display_name": "Python 2",
   "language": "python",
   "name": "python2"
  },
  "language_info": {
   "codemirror_mode": {
    "name": "ipython",
    "version": 2
   },
   "file_extension": ".py",
   "mimetype": "text/x-python",
   "name": "python",
   "nbconvert_exporter": "python",
   "pygments_lexer": "ipython2",
   "version": "2.7.13"
  }
 },
 "nbformat": 4,
 "nbformat_minor": 2
}
