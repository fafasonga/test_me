{
 "cells": [
  {
   "cell_type": "code",
   "execution_count": 47,
   "metadata": {
    "collapsed": true
   },
   "outputs": [],
   "source": [
    "import numpy as np\n",
    "from pandas import read_csv\n",
    "import networkx as nx\n",
    "import matplotlib.pyplot as plt\n",
    "import matplotlib.lines as lines"
   ]
  },
  {
   "cell_type": "code",
   "execution_count": 14,
   "metadata": {
    "collapsed": true
   },
   "outputs": [],
   "source": [
    "path = './test_me/user1.csv'\n",
    "df = read_csv(path, sep=';', na_values=\".\")"
   ]
  },
  {
   "cell_type": "code",
   "execution_count": 16,
   "metadata": {},
   "outputs": [
    {
     "data": {
      "text/html": [
       "<div>\n",
       "<style>\n",
       "    .dataframe thead tr:only-child th {\n",
       "        text-align: right;\n",
       "    }\n",
       "\n",
       "    .dataframe thead th {\n",
       "        text-align: left;\n",
       "    }\n",
       "\n",
       "    .dataframe tbody tr th {\n",
       "        vertical-align: top;\n",
       "    }\n",
       "</style>\n",
       "<table border=\"1\" class=\"dataframe\">\n",
       "  <thead>\n",
       "    <tr style=\"text-align: right;\">\n",
       "      <th></th>\n",
       "      <th>name</th>\n",
       "      <th>latitude</th>\n",
       "      <th>longitude</th>\n",
       "      <th>date</th>\n",
       "      <th>time</th>\n",
       "    </tr>\n",
       "  </thead>\n",
       "  <tbody>\n",
       "    <tr>\n",
       "      <th>0</th>\n",
       "      <td>User 1</td>\n",
       "      <td>39.906098</td>\n",
       "      <td>116.206722</td>\n",
       "      <td>09/05/07</td>\n",
       "      <td>23:32:08</td>\n",
       "    </tr>\n",
       "    <tr>\n",
       "      <th>1</th>\n",
       "      <td>User 1</td>\n",
       "      <td>39.906124</td>\n",
       "      <td>116.206598</td>\n",
       "      <td>09/06/07</td>\n",
       "      <td>23:32:33</td>\n",
       "    </tr>\n",
       "    <tr>\n",
       "      <th>2</th>\n",
       "      <td>User 1</td>\n",
       "      <td>39.905923</td>\n",
       "      <td>116.205999</td>\n",
       "      <td>09/08/07</td>\n",
       "      <td>23:32:58</td>\n",
       "    </tr>\n",
       "    <tr>\n",
       "      <th>3</th>\n",
       "      <td>User 1</td>\n",
       "      <td>39.905823</td>\n",
       "      <td>116.206066</td>\n",
       "      <td>09/09/07</td>\n",
       "      <td>23:33:33</td>\n",
       "    </tr>\n",
       "  </tbody>\n",
       "</table>\n",
       "</div>"
      ],
      "text/plain": [
       "     name   latitude   longitude      date      time\n",
       "0  User 1  39.906098  116.206722  09/05/07  23:32:08\n",
       "1  User 1  39.906124  116.206598  09/06/07  23:32:33\n",
       "2  User 1  39.905923  116.205999  09/08/07  23:32:58\n",
       "3  User 1  39.905823  116.206066  09/09/07  23:33:33"
      ]
     },
     "execution_count": 16,
     "metadata": {},
     "output_type": "execute_result"
    }
   ],
   "source": [
    "df[0:4]"
   ]
  },
  {
   "cell_type": "code",
   "execution_count": 68,
   "metadata": {},
   "outputs": [
    {
     "data": {
      "image/png": "[encoded data removed]",
      "text/plain": [
       "<matplotlib.figure.Figure at 0x107f61210>"
      ]
     },
     "metadata": {},
     "output_type": "display_data"
    }
   ],
   "source": [
    "G = nx.Graph()\n",
    "edges = [(df.latitude[0],df.longitude[0]),(df.latitude[1],df.longitude[1]),\n",
    "         (df.latitude[2],df.longitude[2]),(df.latitude[3],df.longitude[3]),\n",
    "         (df.latitude[4],df.longitude[4]),(df.latitude[5],df.longitude[5]),\n",
    "         (df.latitude[6],df.longitude[6]),(df.latitude[7],df.longitude[7]),\n",
    "         (df.latitude[8],df.longitude[8]),(df.latitude[9],df.longitude[9]),\n",
    "         (df.latitude[10],df.longitude[10]),(df.latitude[11],df.longitude[11]),\n",
    "         (df.latitude[11],df.longitude[11]),(df.latitude[12],df.longitude[12]),\n",
    "        ]\n",
    "\n",
    "G.add_edges_from(edges)\n",
    "nx.draw(G)\n",
    "plt.show()\n"
   ]
  },
  {
   "cell_type": "code",
   "execution_count": 72,
   "metadata": {},
   "outputs": [
    {
     "data": {
      "image/png": "[encoded data removed]",
      "text/plain": [
       "<matplotlib.figure.Figure at 0x150ae022d0>"
      ]
     },
     "metadata": {},
     "output_type": "display_data"
    }
   ],
   "source": [
    "G = nx.Graph()\n",
    "edges = [\n",
    "    (3,6),(7,2),(8,5),(9,5),(5,13),(10,6),(6,1),(1,13),(11,2),(2,13),(12,4),(4,13),(80,65)]\n",
    "\n",
    "G.add_edges_from(edges)\n",
    "nx.draw(G)\n",
    "plt.show()"
   ]
  },
  {
   "cell_type": "code",
   "execution_count": null,
   "metadata": {
    "collapsed": true
   },
   "outputs": [],
   "source": []
  },
  {
   "cell_type": "code",
   "execution_count": null,
   "metadata": {
    "collapsed": true
   },
   "outputs": [],
   "source": []
  }
 ],
 "metadata": {
  "kernelspec": {
   "display_name": "Python 2",
   "language": "python",
   "name": "python2"
  },
  "language_info": {
   "codemirror_mode": {
    "name": "ipython",
    "version": 2
   },
   "file_extension": ".py",
   "mimetype": "text/x-python",
   "name": "python",
   "nbconvert_exporter": "python",
   "pygments_lexer": "ipython2",
   "version": "2.7.13"
  }
 },
 "nbformat": 4,
 "nbformat_minor": 2
}
