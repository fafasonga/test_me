{
 "cells": [
  {
   "cell_type": "code",
   "execution_count": 33,
   "metadata": {},
   "outputs": [],
   "source": [
    "import numpy as np\n",
    "from pandas import read_csv\n",
    "import matplotlib.pyplot as plt\n",
    "from matplotlib import style\n",
    "style.use(\"ggplot\")\n",
    "from sklearn.cluster import KMeans\n",
    "from sklearn import metrics"
   ]
  },
  {
   "cell_type": "code",
   "execution_count": 8,
   "metadata": {
    "collapsed": true
   },
   "outputs": [],
   "source": [
    "path = './test_me/user1.csv'"
   ]
  },
  {
   "cell_type": "code",
   "execution_count": 52,
   "metadata": {},
   "outputs": [],
   "source": [
    "data = read_csv(path, sep=';', na_values=\".\")"
   ]
  },
  {
   "cell_type": "code",
   "execution_count": 12,
   "metadata": {},
   "outputs": [
    {
     "data": {
      "image/png": "[encoded data removed]",
      "text/plain": [
       "<matplotlib.figure.Figure at 0x1a11cfac50>"
      ]
     },
     "metadata": {},
     "output_type": "display_data"
    }
   ],
   "source": [
    "plt.scatter(data.latitude, data.longitude)\n",
    "plt.show()"
   ]
  },
  {
   "cell_type": "code",
   "execution_count": 64,
   "metadata": {},
   "outputs": [
    {
     "name": "stdout",
     "output_type": "stream",
     "text": [
      "[[  39.906098  116.206722]\n",
      " [  39.906124  116.206598]\n",
      " [  39.905923  116.205999]]\n",
      "[[  39.906098  116.206722]\n",
      " [  39.906124  116.206598]\n",
      " [  39.905923  116.205999]]\n",
      "[[  39.906098  116.206722]\n",
      " [  39.906124  116.206598]\n",
      " [  39.905923  116.205999]]\n",
      "[[  39.906098  116.206722]\n",
      " [  39.906124  116.206598]\n",
      " [  39.905923  116.205999]]\n",
      "[[  39.906098  116.206722]\n",
      " [  39.906124  116.206598]\n",
      " [  39.905923  116.205999]]\n",
      "[[  39.906098  116.206722]\n",
      " [  39.906124  116.206598]\n",
      " [  39.905923  116.205999]]\n",
      "[[  39.906098  116.206722]\n",
      " [  39.906124  116.206598]\n",
      " [  39.905923  116.205999]]\n",
      "[[  39.906098  116.206722]\n",
      " [  39.906124  116.206598]\n",
      " [  39.905923  116.205999]]\n",
      "[[  39.906098  116.206722]\n",
      " [  39.906124  116.206598]\n",
      " [  39.905923  116.205999]]\n",
      "[[  39.906098  116.206722]\n",
      " [  39.906124  116.206598]\n",
      " [  39.905923  116.205999]]\n",
      "[[  39.906098  116.206722]\n",
      " [  39.906124  116.206598]\n",
      " [  39.905923  116.205999]]\n",
      "[[  39.906098  116.206722]\n",
      " [  39.906124  116.206598]\n",
      " [  39.905923  116.205999]]\n",
      "[[  39.906098  116.206722]\n",
      " [  39.906124  116.206598]\n",
      " [  39.905923  116.205999]]\n",
      "[[  39.906098  116.206722]\n",
      " [  39.906124  116.206598]\n",
      " [  39.905923  116.205999]]\n",
      "[[  39.906098  116.206722]\n",
      " [  39.906124  116.206598]\n",
      " [  39.905923  116.205999]]\n",
      "[[  39.906098  116.206722]\n",
      " [  39.906124  116.206598]\n",
      " [  39.905923  116.205999]]\n",
      "[[  39.906098  116.206722]\n",
      " [  39.906124  116.206598]\n",
      " [  39.905923  116.205999]]\n",
      "[[  39.906098  116.206722]\n",
      " [  39.906124  116.206598]\n",
      " [  39.905923  116.205999]]\n",
      "[[  39.906098  116.206722]\n",
      " [  39.906124  116.206598]\n",
      " [  39.905923  116.205999]]\n",
      "[[  39.906098  116.206722]\n",
      " [  39.906124  116.206598]\n",
      " [  39.905923  116.205999]]\n",
      "[[  39.906098  116.206722]\n",
      " [  39.906124  116.206598]\n",
      " [  39.905923  116.205999]]\n",
      "[[  39.906098  116.206722]\n",
      " [  39.906124  116.206598]\n",
      " [  39.905923  116.205999]]\n",
      "[[  39.906098  116.206722]\n",
      " [  39.906124  116.206598]\n",
      " [  39.905923  116.205999]]\n",
      "[[  39.906098  116.206722]\n",
      " [  39.906124  116.206598]\n",
      " [  39.905923  116.205999]]\n",
      "[[  39.906098  116.206722]\n",
      " [  39.906124  116.206598]\n",
      " [  39.905923  116.205999]]\n",
      "[[  39.906098  116.206722]\n",
      " [  39.906124  116.206598]\n",
      " [  39.905923  116.205999]]\n",
      "[[  39.906098  116.206722]\n",
      " [  39.906124  116.206598]\n",
      " [  39.905923  116.205999]]\n",
      "[[  39.906098  116.206722]\n",
      " [  39.906124  116.206598]\n",
      " [  39.905923  116.205999]]\n",
      "[[  39.906098  116.206722]\n",
      " [  39.906124  116.206598]\n",
      " [  39.905923  116.205999]]\n",
      "[[  39.906098  116.206722]\n",
      " [  39.906124  116.206598]\n",
      " [  39.905923  116.205999]]\n",
      "[[  39.906098  116.206722]\n",
      " [  39.906124  116.206598]\n",
      " [  39.905923  116.205999]]\n",
      "[[  39.906098  116.206722]\n",
      " [  39.906124  116.206598]\n",
      " [  39.905923  116.205999]]\n",
      "[[  39.906098  116.206722]\n",
      " [  39.906124  116.206598]\n",
      " [  39.905923  116.205999]]\n",
      "[[  39.906098  116.206722]\n",
      " [  39.906124  116.206598]\n",
      " [  39.905923  116.205999]]\n",
      "[[  39.906098  116.206722]\n",
      " [  39.906124  116.206598]\n",
      " [  39.905923  116.205999]]\n",
      "[[  39.906098  116.206722]\n",
      " [  39.906124  116.206598]\n",
      " [  39.905923  116.205999]]\n",
      "[[  39.906098  116.206722]\n",
      " [  39.906124  116.206598]\n",
      " [  39.905923  116.205999]]\n",
      "[[  39.906098  116.206722]\n",
      " [  39.906124  116.206598]\n",
      " [  39.905923  116.205999]]\n",
      "[[  39.906098  116.206722]\n",
      " [  39.906124  116.206598]\n",
      " [  39.905923  116.205999]]\n",
      "[[  39.906098  116.206722]\n",
      " [  39.906124  116.206598]\n",
      " [  39.905923  116.205999]]\n",
      "[[  39.906098  116.206722]\n",
      " [  39.906124  116.206598]\n",
      " [  39.905923  116.205999]]\n",
      "[[  39.906098  116.206722]\n",
      " [  39.906124  116.206598]\n",
      " [  39.905923  116.205999]]\n",
      "[[  39.906098  116.206722]\n",
      " [  39.906124  116.206598]\n",
      " [  39.905923  116.205999]]\n",
      "[[  39.906098  116.206722]\n",
      " [  39.906124  116.206598]\n",
      " [  39.905923  116.205999]]\n"
     ]
    }
   ],
   "source": [
    "colors = [\"g.\",\"r.\",\"c.\",\"y.\"]\n",
    "\n",
    "y = np.array([\n",
    "    [data.latitude[0], data.longitude[0]],\n",
    "    [data.latitude[1], data.longitude[1]],\n",
    "    [data.latitude[2], data.longitude[2]]\n",
    "])\n",
    "    print y\n",
    "    #kmeans = KMeans(n_clusters=2)\n",
    "    #kmeans.fit(y)\n",
    "\n",
    "    #centroids = kmeans.cluster_centers_\n",
    "    #labels = kmeans.labels_\n",
    "\n",
    "    #print(centroids)\n",
    "    #print(labels)\n",
    "    \n",
    "    "
   ]
  },
  {
   "cell_type": "code",
   "execution_count": null,
   "metadata": {
    "collapsed": true
   },
   "outputs": [],
   "source": []
  }
 ],
 "metadata": {
  "kernelspec": {
   "display_name": "Python 2",
   "language": "python",
   "name": "python2"
  },
  "language_info": {
   "codemirror_mode": {
    "name": "ipython",
    "version": 2
   },
   "file_extension": ".py",
   "mimetype": "text/x-python",
   "name": "python",
   "nbconvert_exporter": "python",
   "pygments_lexer": "ipython2",
   "version": "2.7.13"
  }
 },
 "nbformat": 4,
 "nbformat_minor": 2
}
